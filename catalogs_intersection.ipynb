{
 "cells": [
  {
   "cell_type": "code",
   "execution_count": 1,
   "metadata": {},
   "outputs": [],
   "source": [
    "%load_ext autoreload\n",
    "%autoreload 2"
   ]
  },
  {
   "cell_type": "code",
   "execution_count": 2,
   "metadata": {},
   "outputs": [],
   "source": [
    "%matplotlib inline  \n",
    "\n",
    "import numpy as np\n",
    "import pandas as pd\n",
    "import matplotlib.pyplot as plt\n",
    "import seaborn as sns\n",
    "\n",
    "from utils import COLOR_COLUMNS, BAND_CALIB_COLUMNS, BAND_PAIRS, COLOR_PAIRS, process_kids, clean_sdss, describe_column, \\\n",
    "                  cut_u_g, cut_r\n",
    "from utils_plotting import plot_class_histograms"
   ]
  },
  {
   "cell_type": "code",
   "execution_count": 8,
   "metadata": {},
   "outputs": [],
   "source": [
    "def show_intersection(ds1, ds2):\n",
    "\n",
    "    ds1_qso = ds1.loc[ds1['CLASS'] == 'QSO']\n",
    "    ds2_qso = ds2.loc[ds2['CLASS'] == 'QSO']\n",
    "    \n",
    "    n_intersection = sum(ds1['ID'].isin(ds2['ID']))\n",
    "    n_intersection_qso = sum(ds1_qso['ID'].isin(ds2_qso['ID']))\n",
    "    \n",
    "    print('First set size: {}'.format(ds1.shape[0]))\n",
    "    print('Second set size: {}'.format(ds2.shape[0]))\n",
    "    print('Datasets intersection: {}'.format(n_intersection))\n",
    "    print('----------')\n",
    "    print('First set QSOs: {}'.format(ds1_qso.shape[0]))\n",
    "    print('Second set QSOs: {}'.format(ds2_qso.shape[0]))\n",
    "    print('QSOs intersection: {}'.format(n_intersection_qso))"
   ]
  },
  {
   "cell_type": "code",
   "execution_count": 4,
   "metadata": {},
   "outputs": [],
   "source": [
    "catalog_mags_star = pd.read_csv('catalogs/KiDS_DR3_x_SDSS_DR14_star_sdss-clean_rf_f-all_cut-r__2018-04-16_11:12:22.csv')\n",
    "catalog_mags_non_star = pd.read_csv('catalogs/KiDS_DR3_x_SDSS_DR14_non-star_sdss-clean_rf_f-all_cut-r__2018-04-16_11:16:30.csv')\n",
    "\n",
    "catalog_colors_star = pd.read_csv('catalogs/KiDS_DR3_x_SDSS_DR14_star_sdss-clean_rf_f-colors-cstar_cut-u-g__2018-04-24_15:28:29.csv')\n",
    "catalog_colors_non_star = pd.read_csv('catalogs/KiDS_DR3_x_SDSS_DR14_non-star_sdss-clean_rf_f-colors-cstar_cut-u-g__2018-04-24_15:45:06.csv')"
   ]
  },
  {
   "cell_type": "code",
   "execution_count": 6,
   "metadata": {},
   "outputs": [
    {
     "name": "stdout",
     "output_type": "stream",
     "text": [
      "(1147110, 20)\n",
      "(1545091, 20)\n",
      "(1525347, 18)\n",
      "(3786201, 18)\n"
     ]
    }
   ],
   "source": [
    "print(catalog_mags_star.shape)\n",
    "print(catalog_mags_non_star.shape)\n",
    "print(catalog_colors_star.shape)\n",
    "print(catalog_colors_non_star.shape)"
   ]
  },
  {
   "cell_type": "markdown",
   "metadata": {},
   "source": [
    "# mags vs colors, star split"
   ]
  },
  {
   "cell_type": "code",
   "execution_count": 9,
   "metadata": {},
   "outputs": [
    {
     "name": "stdout",
     "output_type": "stream",
     "text": [
      "First set size: 1147110\n",
      "Second set size: 1525347\n",
      "Datasets intersection: 1134384\n",
      "----------\n",
      "First set QSOs: 148212\n",
      "Second set QSOs: 383242\n",
      "QSOs intersection: 74422\n"
     ]
    }
   ],
   "source": [
    "show_intersection(catalog_mags_star, catalog_colors_star)"
   ]
  },
  {
   "cell_type": "code",
   "execution_count": 10,
   "metadata": {},
   "outputs": [
    {
     "name": "stdout",
     "output_type": "stream",
     "text": [
      "First set size: 1545091\n",
      "Second set size: 3786201\n",
      "Datasets intersection: 1538812\n",
      "----------\n",
      "First set QSOs: 11451\n",
      "Second set QSOs: 677713\n",
      "QSOs intersection: 9046\n"
     ]
    }
   ],
   "source": [
    "show_intersection(catalog_mags_non_star, catalog_colors_non_star)"
   ]
  },
  {
   "cell_type": "code",
   "execution_count": null,
   "metadata": {},
   "outputs": [],
   "source": []
  }
 ],
 "metadata": {
  "kernelspec": {
   "display_name": "Python 3",
   "language": "python",
   "name": "python3"
  },
  "language_info": {
   "codemirror_mode": {
    "name": "ipython",
    "version": 3
   },
   "file_extension": ".py",
   "mimetype": "text/x-python",
   "name": "python",
   "nbconvert_exporter": "python",
   "pygments_lexer": "ipython3",
   "version": "3.5.2"
  }
 },
 "nbformat": 4,
 "nbformat_minor": 2
}
