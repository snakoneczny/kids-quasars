{
 "cells": [
  {
   "cell_type": "code",
   "execution_count": 1,
   "metadata": {},
   "outputs": [],
   "source": [
    "%load_ext autoreload\n",
    "%autoreload 2"
   ]
  },
  {
   "cell_type": "code",
   "execution_count": 2,
   "metadata": {},
   "outputs": [],
   "source": [
    "%matplotlib inline  \n",
    "\n",
    "import numpy as np\n",
    "import pandas as pd\n",
    "import matplotlib.pyplot as plt\n",
    "import seaborn as sns\n",
    "\n",
    "from utils import COLOR_COLUMNS, BAND_CALIB_COLUMNS, BAND_PAIRS, COLOR_PAIRS, process_kids, clean_sdss, describe_column, \\\n",
    "                  cut_u_g, cut_r\n",
    "from utils_plotting import plot_class_histograms"
   ]
  },
  {
   "cell_type": "code",
   "execution_count": 3,
   "metadata": {},
   "outputs": [],
   "source": [
    "def show_intersection(path_1, path_2):\n",
    "    \n",
    "    ds1 = pd.read_csv(path_1)\n",
    "    ds2 = pd.read_csv(path_2)\n",
    "\n",
    "    ds1_qso = ds1.loc[ds1['CLASS'] == 'QSO']\n",
    "    ds2_qso = ds2.loc[ds2['CLASS'] == 'QSO']\n",
    "    \n",
    "    n_intersection = sum(ds1['ID'].isin(ds2['ID']))\n",
    "    n_intersection_qso = sum(ds1_qso['ID'].isin(ds2_qso['ID']))\n",
    "    \n",
    "    print('First set size: {}'.format(ds1.shape[0]))\n",
    "    print('Second set size: {}'.format(ds2.shape[0]))\n",
    "    print('Datasets intersection: {}'.format(n_intersection))\n",
    "    print('----------')\n",
    "    print('First set QSOs: {}'.format(ds1_qso.shape[0]))\n",
    "    print('Second set QSOs: {}'.format(ds2_qso.shape[0]))\n",
    "    print('QSOs intersection: {}'.format(n_intersection_qso))"
   ]
  },
  {
   "cell_type": "code",
   "execution_count": 8,
   "metadata": {},
   "outputs": [],
   "source": [
    "kids_mags_path = 'catalogs/KiDS_DR3_x_SDSS_DR14_sdss-clean_rf_f-all_cut-r__2018-04-06_11:56:40.csv'\n",
    "kids_colors_path = 'catalogs/KiDS_DR3_x_SDSS_DR14_sdss-clean_rf_f-colors_cut-u-g__2018-04-10_10:27:36.csv'\n",
    "kids_star_mags_path = 'catalogs/KiDS_DR3_STAR_x_SDSS_DR14_sdss-clean_rf_f-all_cut-r__2018-04-10_10:33:59.csv'\n",
    "kids_star_colors_path = 'catalogs/KiDS_DR3_STAR_x_SDSS_DR14_sdss-clean_rf_f-colors_cut-u-g__2018-04-10_10:39:52.csv'"
   ]
  },
  {
   "cell_type": "markdown",
   "metadata": {},
   "source": [
    "## KiDS STAR mags vs. colors"
   ]
  },
  {
   "cell_type": "code",
   "execution_count": 9,
   "metadata": {},
   "outputs": [
    {
     "name": "stdout",
     "output_type": "stream",
     "text": [
      "First set size: 1117937\n",
      "Second set size: 1340402\n",
      "Datasets intersection: 1106053\n",
      "----------\n",
      "First set QSOs: 135629\n",
      "Second set QSOs: 244072\n",
      "QSOs intersection: 69220\n"
     ]
    }
   ],
   "source": [
    "show_intersection(kids_star_mags_path, kids_star_colors_path)"
   ]
  },
  {
   "cell_type": "markdown",
   "metadata": {},
   "source": [
    "## KiDS mags vs. colors"
   ]
  },
  {
   "cell_type": "code",
   "execution_count": 10,
   "metadata": {},
   "outputs": [
    {
     "name": "stdout",
     "output_type": "stream",
     "text": [
      "First set size: 2692201\n",
      "Second set size: 5311548\n",
      "Datasets intersection: 2673196\n",
      "----------\n",
      "First set QSOs: 295530\n",
      "Second set QSOs: 2405476\n",
      "QSOs intersection: 174194\n"
     ]
    }
   ],
   "source": [
    "show_intersection(kids_mags_path, kids_colors_path)"
   ]
  },
  {
   "cell_type": "markdown",
   "metadata": {},
   "source": [
    "## KiDS mags vs. STAR mags"
   ]
  },
  {
   "cell_type": "code",
   "execution_count": 11,
   "metadata": {},
   "outputs": [
    {
     "name": "stdout",
     "output_type": "stream",
     "text": [
      "First set size: 2692201\n",
      "Second set size: 1117937\n",
      "Datasets intersection: 1117937\n",
      "----------\n",
      "First set QSOs: 295530\n",
      "Second set QSOs: 135629\n",
      "QSOs intersection: 114032\n"
     ]
    }
   ],
   "source": [
    "show_intersection(kids_mags_path, kids_star_mags_path)"
   ]
  },
  {
   "cell_type": "markdown",
   "metadata": {},
   "source": [
    "## KiDS mags vs. STAR colors"
   ]
  },
  {
   "cell_type": "code",
   "execution_count": 12,
   "metadata": {},
   "outputs": [
    {
     "name": "stdout",
     "output_type": "stream",
     "text": [
      "First set size: 2692201\n",
      "Second set size: 1340402\n",
      "Datasets intersection: 1106053\n",
      "----------\n",
      "First set QSOs: 295530\n",
      "Second set QSOs: 244072\n",
      "QSOs intersection: 57946\n"
     ]
    }
   ],
   "source": [
    "show_intersection(kids_mags_path, kids_star_colors_path)"
   ]
  },
  {
   "cell_type": "code",
   "execution_count": null,
   "metadata": {},
   "outputs": [],
   "source": []
  }
 ],
 "metadata": {
  "kernelspec": {
   "display_name": "Python 3",
   "language": "python",
   "name": "python3"
  },
  "language_info": {
   "codemirror_mode": {
    "name": "ipython",
    "version": 3
   },
   "file_extension": ".py",
   "mimetype": "text/x-python",
   "name": "python",
   "nbconvert_exporter": "python",
   "pygments_lexer": "ipython3",
   "version": "3.5.2"
  }
 },
 "nbformat": 4,
 "nbformat_minor": 2
}
