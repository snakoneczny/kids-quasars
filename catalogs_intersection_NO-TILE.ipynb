{
 "cells": [
  {
   "cell_type": "code",
   "execution_count": 1,
   "metadata": {},
   "outputs": [],
   "source": [
    "%load_ext autoreload\n",
    "%autoreload 2"
   ]
  },
  {
   "cell_type": "code",
   "execution_count": 2,
   "metadata": {},
   "outputs": [],
   "source": [
    "%matplotlib inline  \n",
    "\n",
    "import numpy as np\n",
    "import pandas as pd\n",
    "import matplotlib.pyplot as plt\n",
    "import seaborn as sns\n",
    "\n",
    "from utils import COLOR_COLUMNS, BAND_CALIB_COLUMNS, BAND_PAIRS, COLOR_PAIRS, process_kids, clean_sdss, describe_column, \\\n",
    "                  cut_u_g, cut_r\n",
    "from utils_plotting import plot_class_histograms"
   ]
  },
  {
   "cell_type": "markdown",
   "metadata": {},
   "source": [
    "# Intersections"
   ]
  },
  {
   "cell_type": "code",
   "execution_count": 6,
   "metadata": {},
   "outputs": [],
   "source": [
    "def show_intersection(path_1, path_2):\n",
    "    \n",
    "    ds1 = pd.read_csv(path_1)\n",
    "    ds2 = pd.read_csv(path_2)\n",
    "\n",
    "    ds1_qso = ds1.loc[ds1['CLASS'] == 'QSO']\n",
    "    ds2_qso = ds2.loc[ds2['CLASS'] == 'QSO']\n",
    "    \n",
    "    n_intersection = sum(ds1['ID'].isin(ds2['ID']))\n",
    "    n_intersection_qso = sum(ds1_qso['ID'].isin(ds2_qso['ID']))\n",
    "    \n",
    "    print('First set size: {}'.format(ds1.shape[0]))\n",
    "    print('Second set size: {}'.format(ds2.shape[0]))\n",
    "    print('Datasets intersection: {}'.format(n_intersection))\n",
    "    print('----------')\n",
    "    print('First set QSOs: {}'.format(ds1_qso.shape[0]))\n",
    "    print('Second set QSOs: {}'.format(ds2_qso.shape[0]))\n",
    "    print('QSOs intersection: {}'.format(n_intersection_qso))"
   ]
  },
  {
   "cell_type": "markdown",
   "metadata": {},
   "source": [
    "## KiDS STAR mags vs. colors"
   ]
  },
  {
   "cell_type": "code",
   "execution_count": 7,
   "metadata": {},
   "outputs": [
    {
     "name": "stdout",
     "output_type": "stream",
     "text": [
      "First set size: 770731\n",
      "Second set size: 940463\n",
      "Datasets intersection: 762678\n",
      "----------\n",
      "First set QSOs: 82253\n",
      "Second set QSOs: 169280\n",
      "QSOs intersection: 41331\n"
     ]
    }
   ],
   "source": [
    "show_intersection('catalogs/KiDS_DR3_STAR_x_SDSS_DR14_sdss-clean_rf_f-all_cut-magnitude__2018-03-12_13:44:23.csv',\n",
    "                  'catalogs/KiDS_DR3_STAR_x_SDSS_DR14_sdss-clean_rf_f-colors_cut-u-g__2018-03-13_15:16:32.csv')"
   ]
  },
  {
   "cell_type": "markdown",
   "metadata": {},
   "source": [
    "## KiDS mags vs. colors"
   ]
  },
  {
   "cell_type": "code",
   "execution_count": 8,
   "metadata": {},
   "outputs": [
    {
     "name": "stdout",
     "output_type": "stream",
     "text": [
      "First set size: 1784891\n",
      "Second set size: 3697620\n",
      "Datasets intersection: 1773561\n",
      "----------\n",
      "First set QSOs: 188924\n",
      "Second set QSOs: 1680648\n",
      "QSOs intersection: 115681\n"
     ]
    }
   ],
   "source": [
    "show_intersection('catalogs/KiDS_DR3_x_SDSS_DR14_sdss-clean_rf_f-all_cut-r__2018-03-16_13:19:31.csv',\n",
    "                  'catalogs/KiDS_DR3_x_SDSS_DR14_sdss-clean_rf_f-colors_cut-color__2018-03-12_15:06:47.csv')"
   ]
  },
  {
   "cell_type": "markdown",
   "metadata": {},
   "source": [
    "## KiDS mags vs. STAR mags"
   ]
  },
  {
   "cell_type": "code",
   "execution_count": 11,
   "metadata": {},
   "outputs": [
    {
     "name": "stdout",
     "output_type": "stream",
     "text": [
      "First set size: 1784891\n",
      "Second set size: 770731\n",
      "Datasets intersection: 770731\n",
      "----------\n",
      "First set QSOs: 188924\n",
      "Second set QSOs: 82253\n",
      "QSOs intersection: 72063\n"
     ]
    }
   ],
   "source": [
    "show_intersection('catalogs/KiDS_DR3_x_SDSS_DR14_sdss-clean_rf_f-all_cut-r__2018-03-16_13:19:31.csv',\n",
    "                  'catalogs/KiDS_DR3_STAR_x_SDSS_DR14_sdss-clean_rf_f-all_cut-magnitude__2018-03-12_13:44:23.csv')"
   ]
  },
  {
   "cell_type": "markdown",
   "metadata": {},
   "source": [
    "## KiDS mags vs. STAR colors"
   ]
  },
  {
   "cell_type": "code",
   "execution_count": 10,
   "metadata": {},
   "outputs": [
    {
     "name": "stdout",
     "output_type": "stream",
     "text": [
      "First set size: 1784891\n",
      "Second set size: 940463\n",
      "Datasets intersection: 762678\n",
      "----------\n",
      "First set QSOs: 188924\n",
      "Second set QSOs: 169280\n",
      "QSOs intersection: 36080\n"
     ]
    }
   ],
   "source": [
    "show_intersection('catalogs/KiDS_DR3_x_SDSS_DR14_sdss-clean_rf_f-all_cut-r__2018-03-16_13:19:31.csv',\n",
    "                  'catalogs/KiDS_DR3_STAR_x_SDSS_DR14_sdss-clean_rf_f-colors_cut-u-g__2018-03-13_15:16:32.csv')"
   ]
  },
  {
   "cell_type": "code",
   "execution_count": null,
   "metadata": {},
   "outputs": [],
   "source": []
  }
 ],
 "metadata": {
  "kernelspec": {
   "display_name": "Python 3",
   "language": "python",
   "name": "python3"
  },
  "language_info": {
   "codemirror_mode": {
    "name": "ipython",
    "version": 3
   },
   "file_extension": ".py",
   "mimetype": "text/x-python",
   "name": "python",
   "nbconvert_exporter": "python",
   "pygments_lexer": "ipython3",
   "version": "3.5.2"
  }
 },
 "nbformat": 4,
 "nbformat_minor": 2
}
