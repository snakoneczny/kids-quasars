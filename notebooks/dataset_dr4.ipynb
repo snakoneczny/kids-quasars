{
 "cells": [
  {
   "cell_type": "code",
   "execution_count": 1,
   "metadata": {},
   "outputs": [],
   "source": [
    "%load_ext autoreload\n",
    "%autoreload 2"
   ]
  },
  {
   "cell_type": "code",
   "execution_count": 2,
   "metadata": {},
   "outputs": [],
   "source": [
    "%matplotlib inline  \n",
    "\n",
    "import sys\n",
    "\n",
    "import numpy as np\n",
    "import pandas as pd\n",
    "from matplotlib import pyplot as plt\n",
    "import seaborn as sns\n",
    "\n",
    "sys.path.append('..')\n",
    "from utils import *\n",
    "from data import *"
   ]
  },
  {
   "cell_type": "code",
   "execution_count": 3,
   "metadata": {},
   "outputs": [],
   "source": [
    "import matplotlib as mpl\n",
    "mpl.rcParams['figure.dpi']= 100\n",
    "\n",
    "sns.set(style='ticks')\n",
    "sns.set_palette('cubehelix')"
   ]
  },
  {
   "cell_type": "code",
   "execution_count": 4,
   "metadata": {},
   "outputs": [],
   "source": [
    "path = '/media/snakoneczny/data/KiDS/DR4/KiDS.DR4.x.SDSS.DR14.fits'"
   ]
  },
  {
   "cell_type": "code",
   "execution_count": 5,
   "metadata": {},
   "outputs": [],
   "source": [
    "data = read_fits_to_pandas(path)"
   ]
  },
  {
   "cell_type": "code",
   "execution_count": 7,
   "metadata": {},
   "outputs": [
    {
     "name": "stdout",
     "output_type": "stream",
     "text": [
      "Droping NANs: 130777 (85.90%) left\n"
     ]
    }
   ],
   "source": [
    "# Drop NANs\n",
    "data_no_na = data.dropna(subset=get_mags()).reset_index(drop=True)\n",
    "\n",
    "n_left = data_no_na.shape[0]\n",
    "p_left = data_no_na.shape[0] / data.shape[0] * 100\n",
    "print('Droping NANs: {} ({:.2f}%) left'.format(n_left, p_left))"
   ]
  },
  {
   "cell_type": "code",
   "execution_count": 9,
   "metadata": {},
   "outputs": [
    {
     "name": "stdout",
     "output_type": "stream",
     "text": [
      "Droping NANs: 149403 (98.13%) left\n"
     ]
    }
   ],
   "source": [
    "# Drop NANs\n",
    "data_no_na = data.dropna(subset=['MAG_GAAP_r']).reset_index(drop=True)\n",
    "\n",
    "n_left = data_no_na.shape[0]\n",
    "p_left = data_no_na.shape[0] / data.shape[0] * 100\n",
    "print('Droping NANs: {} ({:.2f}%) left'.format(n_left, p_left))"
   ]
  },
  {
   "cell_type": "code",
   "execution_count": 10,
   "metadata": {},
   "outputs": [
    {
     "name": "stdout",
     "output_type": "stream",
     "text": [
      "Droping NANs: 149198 (98.00%) left\n"
     ]
    }
   ],
   "source": [
    "# Drop NANs\n",
    "data_no_na = data.dropna(subset=['MAG_GAAP_g', 'MAG_GAAP_r', 'MAG_GAAP_i']).reset_index(drop=True)\n",
    "\n",
    "n_left = data_no_na.shape[0]\n",
    "p_left = data_no_na.shape[0] / data.shape[0] * 100\n",
    "print('Droping NANs: {} ({:.2f}%) left'.format(n_left, p_left))"
   ]
  },
  {
   "cell_type": "code",
   "execution_count": 8,
   "metadata": {},
   "outputs": [
    {
     "name": "stdout",
     "output_type": "stream",
     "text": [
      "Droping NANs: 138570 (91.02%) left\n"
     ]
    }
   ],
   "source": [
    "# Drop NANs\n",
    "data_no_na = data.dropna(subset=['MAG_GAAP_u', 'MAG_GAAP_g', 'MAG_GAAP_r', 'MAG_GAAP_i']).reset_index(drop=True)\n",
    "\n",
    "n_left = data_no_na.shape[0]\n",
    "p_left = data_no_na.shape[0] / data.shape[0] * 100\n",
    "print('Droping NANs: {} ({:.2f}%) left'.format(n_left, p_left))"
   ]
  },
  {
   "cell_type": "code",
   "execution_count": 14,
   "metadata": {},
   "outputs": [
    {
     "name": "stdout",
     "output_type": "stream",
     "text": [
      "Droping NANs: 145508 (95.58%) left\n"
     ]
    }
   ],
   "source": [
    "# Drop NANs\n",
    "cols = ['MAG_GAAP_Z']\n",
    "data_no_na = data.dropna(subset=cols).reset_index(drop=True)\n",
    "\n",
    "n_left = data_no_na.shape[0]\n",
    "p_left = data_no_na.shape[0] / data.shape[0] * 100\n",
    "print('Droping NANs: {} ({:.2f}%) left'.format(n_left, p_left))"
   ]
  },
  {
   "cell_type": "code",
   "execution_count": 13,
   "metadata": {},
   "outputs": [
    {
     "name": "stdout",
     "output_type": "stream",
     "text": [
      "Droping NANs: 144597 (94.98%) left\n"
     ]
    }
   ],
   "source": [
    "# Drop NANs\n",
    "cols = ['MAG_GAAP_Ks']\n",
    "data_no_na = data.dropna(subset=cols).reset_index(drop=True)\n",
    "\n",
    "n_left = data_no_na.shape[0]\n",
    "p_left = data_no_na.shape[0] / data.shape[0] * 100\n",
    "print('Droping NANs: {} ({:.2f}%) left'.format(n_left, p_left))"
   ]
  },
  {
   "cell_type": "code",
   "execution_count": 19,
   "metadata": {},
   "outputs": [
    {
     "name": "stdout",
     "output_type": "stream",
     "text": [
      "Droping NANs: 143704 (94.39%) left\n"
     ]
    }
   ],
   "source": [
    "# Drop NANs\n",
    "cols = ['MAG_GAAP_Z', 'MAG_GAAP_Y', 'MAG_GAAP_J', 'MAG_GAAP_H', 'MAG_GAAP_Ks']\n",
    "data_no_na = data.dropna(subset=cols).reset_index(drop=True)\n",
    "\n",
    "n_left = data_no_na.shape[0]\n",
    "p_left = data_no_na.shape[0] / data.shape[0] * 100\n",
    "print('Droping NANs: {} ({:.2f}%) left'.format(n_left, p_left))"
   ]
  },
  {
   "cell_type": "code",
   "execution_count": 21,
   "metadata": {},
   "outputs": [
    {
     "data": {
      "text/plain": [
       "Index(['ID', 'RAJ2000', 'DECJ2000', 'Flag', 'SG2DPHOT', 'MAG_GAAP_u',\n",
       "       'MAG_GAAP_g', 'MAG_GAAP_r', 'MAG_GAAP_i', 'MAG_GAAP_Z', 'MAG_GAAP_Y',\n",
       "       'MAG_GAAP_J', 'MAG_GAAP_H', 'MAG_GAAP_Ks', 'COLOUR_GAAP_u_g',\n",
       "       'COLOUR_GAAP_g_r', 'COLOUR_GAAP_r_i', 'COLOUR_GAAP_i_Z',\n",
       "       'COLOUR_GAAP_Z_Y', 'COLOUR_GAAP_Y_J', 'COLOUR_GAAP_J_H',\n",
       "       'COLOUR_GAAP_H_Ks', 'CLASS', 'SUBCLASS', 'Z', 'Z_ERR', 'ZWARNING'],\n",
       "      dtype='object')"
      ]
     },
     "execution_count": 21,
     "metadata": {},
     "output_type": "execute_result"
    }
   ],
   "source": [
    "data.columns"
   ]
  },
  {
   "cell_type": "code",
   "execution_count": 22,
   "metadata": {},
   "outputs": [
    {
     "name": "stdout",
     "output_type": "stream",
     "text": [
      "Droping NANs: 140839 (92.51%) left\n"
     ]
    }
   ],
   "source": [
    "# Drop NANs\n",
    "cols = ['MAG_GAAP_g', 'MAG_GAAP_r', 'MAG_GAAP_i', 'COLOUR_GAAP_g_r', 'COLOUR_GAAP_r_i', 'COLOUR_GAAP_i_Z',\n",
    "        'COLOUR_GAAP_Z_Y', 'COLOUR_GAAP_Y_J', 'COLOUR_GAAP_J_H', 'COLOUR_GAAP_H_Ks']\n",
    "data_no_na = data.dropna(subset=cols).reset_index(drop=True)\n",
    "\n",
    "n_left = data_no_na.shape[0]\n",
    "p_left = data_no_na.shape[0] / data.shape[0] * 100\n",
    "print('Droping NANs: {} ({:.2f}%) left'.format(n_left, p_left))"
   ]
  },
  {
   "cell_type": "code",
   "execution_count": 17,
   "metadata": {
    "scrolled": true
   },
   "outputs": [
    {
     "name": "stdout",
     "output_type": "stream",
     "text": [
      "Droping NANs: 130777 (85.90%) left\n"
     ]
    }
   ],
   "source": [
    "# Drop NANs\n",
    "cols = get_mags() + get_colors()\n",
    "data_no_na = data.dropna(subset=cols).reset_index(drop=True)\n",
    "\n",
    "n_left = data_no_na.shape[0]\n",
    "p_left = data_no_na.shape[0] / data.shape[0] * 100\n",
    "print('Droping NANs: {} ({:.2f}%) left'.format(n_left, p_left))"
   ]
  },
  {
   "cell_type": "code",
   "execution_count": null,
   "metadata": {},
   "outputs": [],
   "source": []
  },
  {
   "cell_type": "code",
   "execution_count": null,
   "metadata": {},
   "outputs": [],
   "source": []
  },
  {
   "cell_type": "code",
   "execution_count": null,
   "metadata": {},
   "outputs": [],
   "source": []
  },
  {
   "cell_type": "code",
   "execution_count": null,
   "metadata": {},
   "outputs": [],
   "source": [
    "\n",
    "\n",
    "    mask = [1] * data_no_na.shape[0]\n",
    "\n",
    "    # Remove errors\n",
    "    for b in BANDS_DR3:\n",
    "        mask &= (data_no_na['MAGERR_GAAP_{}'.format(b)] < 1)\n",
    "    if with_print:\n",
    "        n_left = mask.sum()\n",
    "        p_left = mask.sum() / data.shape[0] * 100\n",
    "        print('Removing errors bigger than 1: {} ({:.2f}%) left'.format(n_left, p_left))\n",
    "\n",
    "    # Survey limiting magnitudes\n",
    "    mask &= (\n",
    "            (data_no_na['MAG_GAAP_U'] < 24.3) &\n",
    "            (data_no_na['MAG_GAAP_G'] < 25.1) &\n",
    "            (data_no_na['MAG_GAAP_R'] < 24.9) &\n",
    "            (data_no_na['MAG_GAAP_I'] < 23.8)\n",
    "    )\n",
    "    if with_print:\n",
    "        n_left = mask.sum()\n",
    "        p_left = mask.sum() / data.shape[0] * 100\n",
    "        print('Removing limiting magnitudes: {} ({:.2f}%) left'.format(n_left, p_left))\n",
    "\n",
    "    # Remove flags\n",
    "    # for c in FLAGS:\n",
    "    #     mask &= (data_no_na[c] == 0)\n",
    "    # if with_print: print('Removing flags: {} left'.format(mask.sum()))\n",
    "\n",
    "    # Remove ima-flags\n",
    "    flag_mask = 0b01111111\n",
    "    for c in IMA_FLAGS:\n",
    "        mask &= (data_no_na[c] & flag_mask == 0)\n",
    "    if with_print:\n",
    "        n_left = mask.sum()\n",
    "        p_left = mask.sum() / data.shape[0] * 100\n",
    "        print('Removing IMA flags: {} ({:.2f}%) left'.format(n_left, p_left))\n",
    "\n",
    "    # Tile flag\n",
    "    # mask &= (data_no_na['TILE_FLAG'] == 0)\n",
    "    # if with_print: print('Removing tile flag: {} left'.format(mask.sum()))\n",
    "\n",
    "    return data_no_na.loc[mask].reset_index(drop=True)"
   ]
  }
 ],
 "metadata": {
  "kernelspec": {
   "display_name": "Python 3",
   "language": "python",
   "name": "python3"
  },
  "language_info": {
   "codemirror_mode": {
    "name": "ipython",
    "version": 3
   },
   "file_extension": ".py",
   "mimetype": "text/x-python",
   "name": "python",
   "nbconvert_exporter": "python",
   "pygments_lexer": "ipython3",
   "version": "3.6.7"
  }
 },
 "nbformat": 4,
 "nbformat_minor": 2
}
