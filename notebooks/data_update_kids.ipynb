{
 "cells": [
  {
   "cell_type": "code",
   "execution_count": 1,
   "metadata": {},
   "outputs": [],
   "source": [
    "%load_ext autoreload\n",
    "%autoreload 2"
   ]
  },
  {
   "cell_type": "code",
   "execution_count": 2,
   "metadata": {},
   "outputs": [],
   "source": [
    "import sys\n",
    "import os\n",
    "\n",
    "import numpy as np\n",
    "import pandas as pd\n",
    "\n",
    "sys.path.append('..')\n",
    "from env_config import DATA_PATH\n",
    "from utils import *\n",
    "from data import *"
   ]
  },
  {
   "cell_type": "code",
   "execution_count": 3,
   "metadata": {},
   "outputs": [
    {
     "name": "stdout",
     "output_type": "stream",
     "text": [
      "(830409, 5)\n"
     ]
    }
   ],
   "source": [
    "kids_update = read_fits_to_pandas(os.path.join(DATA_PATH, 'KiDS/DR4/KiDS.DR4.1.update.0.fits'),\n",
    "                           columns=['ID', 'RAJ2000', 'DECJ2000', 'MAG_GAAP_r', 'CLASS_STAR'])\n",
    "print(kids_update.shape)"
   ]
  },
  {
   "cell_type": "code",
   "execution_count": 15,
   "metadata": {},
   "outputs": [
    {
     "name": "stdout",
     "output_type": "stream",
     "text": [
      "(100350873, 5)\n"
     ]
    }
   ],
   "source": [
    "kids = read_fits_to_pandas(os.path.join(DATA_PATH, 'KiDS/DR4/KiDS.DR4.cols.fits'),\n",
    "                           columns=['ID', 'RAJ2000', 'DECJ2000', 'MAG_GAAP_r', 'CLASS_STAR'])\n",
    "print(kids.shape)"
   ]
  },
  {
   "cell_type": "code",
   "execution_count": 16,
   "metadata": {},
   "outputs": [],
   "source": [
    "idx_to_update = kids['ID'].isin(kids_update['ID'])\n",
    "idx_small = idx_to_update.to_numpy().nonzero()[0][-10:]"
   ]
  },
  {
   "cell_type": "code",
   "execution_count": 35,
   "metadata": {
    "scrolled": true
   },
   "outputs": [
    {
     "name": "stdout",
     "output_type": "stream",
     "text": [
      "                                                          ID     RAJ2000  \\\n",
      "ID                                                                         \n",
      "KiDSDR4 J235849.263-284005.54  KiDSDR4 J235849.263-284005.54  359.705265   \n",
      "KiDSDR4 J235745.430-284112.05  KiDSDR4 J235745.430-284112.05  359.439294   \n",
      "KiDSDR4 J235752.425-284112.08  KiDSDR4 J235752.425-284112.08  359.468441   \n",
      "KiDSDR4 J000204.894-284112.12  KiDSDR4 J000204.894-284112.12    0.520395   \n",
      "KiDSDR4 J000159.200-284112.45  KiDSDR4 J000159.200-284112.45    0.496667   \n",
      "KiDSDR4 J235752.110-284111.80  KiDSDR4 J235752.110-284111.80  359.467128   \n",
      "KiDSDR4 J235751.922-284111.61  KiDSDR4 J235751.922-284111.61  359.466343   \n",
      "KiDSDR4 J000147.904-284112.36  KiDSDR4 J000147.904-284112.36    0.449603   \n",
      "KiDSDR4 J000205.772-284111.38  KiDSDR4 J000205.772-284111.38    0.524050   \n",
      "KiDSDR4 J235752.176-284110.88  KiDSDR4 J235752.176-284110.88  359.467402   \n",
      "\n",
      "                                DECJ2000  MAG_GAAP_r  CLASS_STAR  \n",
      "ID                                                                \n",
      "KiDSDR4 J235849.263-284005.54 -28.668206   20.566881    0.031748  \n",
      "KiDSDR4 J235745.430-284112.05 -28.686681   21.731508    0.018417  \n",
      "KiDSDR4 J235752.425-284112.08 -28.686690   24.015606    0.428535  \n",
      "KiDSDR4 J000204.894-284112.12 -28.686702   24.163919    0.502825  \n",
      "KiDSDR4 J000159.200-284112.45 -28.686793   22.913486    0.779146  \n",
      "KiDSDR4 J235752.110-284111.80 -28.686612   23.798300    0.607195  \n",
      "KiDSDR4 J235751.922-284111.61 -28.686559   23.646511    0.684545  \n",
      "KiDSDR4 J000147.904-284112.36 -28.686767   25.163868    0.422933  \n",
      "KiDSDR4 J000205.772-284111.38 -28.686497   23.314589    0.004497  \n",
      "KiDSDR4 J235752.176-284110.88 -28.686357   23.732311    0.675478  \n"
     ]
    }
   ],
   "source": [
    "print(kids.iloc[idx_small])"
   ]
  },
  {
   "cell_type": "code",
   "execution_count": 36,
   "metadata": {},
   "outputs": [],
   "source": [
    "kids = kids.set_index('ID', drop=False)\n",
    "kids_update = kids_update.set_index('ID', drop=False)"
   ]
  },
  {
   "cell_type": "code",
   "execution_count": 37,
   "metadata": {},
   "outputs": [],
   "source": [
    "kids.update(kids_update)"
   ]
  },
  {
   "cell_type": "code",
   "execution_count": 38,
   "metadata": {
    "scrolled": true
   },
   "outputs": [
    {
     "name": "stdout",
     "output_type": "stream",
     "text": [
      "                                                          ID     RAJ2000  \\\n",
      "ID                                                                         \n",
      "KiDSDR4 J235849.263-284005.54  KiDSDR4 J235849.263-284005.54  359.705265   \n",
      "KiDSDR4 J235745.430-284112.05  KiDSDR4 J235745.430-284112.05  359.439294   \n",
      "KiDSDR4 J235752.425-284112.08  KiDSDR4 J235752.425-284112.08  359.468441   \n",
      "KiDSDR4 J000204.894-284112.12  KiDSDR4 J000204.894-284112.12    0.520395   \n",
      "KiDSDR4 J000159.200-284112.45  KiDSDR4 J000159.200-284112.45    0.496667   \n",
      "KiDSDR4 J235752.110-284111.80  KiDSDR4 J235752.110-284111.80  359.467128   \n",
      "KiDSDR4 J235751.922-284111.61  KiDSDR4 J235751.922-284111.61  359.466343   \n",
      "KiDSDR4 J000147.904-284112.36  KiDSDR4 J000147.904-284112.36    0.449603   \n",
      "KiDSDR4 J000205.772-284111.38  KiDSDR4 J000205.772-284111.38    0.524050   \n",
      "KiDSDR4 J235752.176-284110.88  KiDSDR4 J235752.176-284110.88  359.467402   \n",
      "\n",
      "                                DECJ2000  MAG_GAAP_r  CLASS_STAR  \n",
      "ID                                                                \n",
      "KiDSDR4 J235849.263-284005.54 -28.668206   20.566881    0.031748  \n",
      "KiDSDR4 J235745.430-284112.05 -28.686681   21.731508    0.018417  \n",
      "KiDSDR4 J235752.425-284112.08 -28.686690   24.015606    0.428535  \n",
      "KiDSDR4 J000204.894-284112.12 -28.686702   24.163919    0.502825  \n",
      "KiDSDR4 J000159.200-284112.45 -28.686793   22.913486    0.779146  \n",
      "KiDSDR4 J235752.110-284111.80 -28.686612   23.798300    0.607195  \n",
      "KiDSDR4 J235751.922-284111.61 -28.686559   23.646511    0.684545  \n",
      "KiDSDR4 J000147.904-284112.36 -28.686767   25.163868    0.422933  \n",
      "KiDSDR4 J000205.772-284111.38 -28.686497   23.314589    0.004497  \n",
      "KiDSDR4 J235752.176-284110.88 -28.686357   23.732311    0.675478  \n"
     ]
    }
   ],
   "source": [
    "print(kids.iloc[idx_small])"
   ]
  },
  {
   "cell_type": "code",
   "execution_count": null,
   "metadata": {},
   "outputs": [],
   "source": []
  }
 ],
 "metadata": {
  "kernelspec": {
   "display_name": "Python 3",
   "language": "python",
   "name": "python3"
  },
  "language_info": {
   "codemirror_mode": {
    "name": "ipython",
    "version": 3
   },
   "file_extension": ".py",
   "mimetype": "text/x-python",
   "name": "python",
   "nbconvert_exporter": "python",
   "pygments_lexer": "ipython3",
   "version": "3.7.6"
  }
 },
 "nbformat": 4,
 "nbformat_minor": 4
}
