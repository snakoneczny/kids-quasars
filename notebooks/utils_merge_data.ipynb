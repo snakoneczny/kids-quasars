{
 "cells": [
  {
   "cell_type": "code",
   "execution_count": 1,
   "metadata": {},
   "outputs": [],
   "source": [
    "%load_ext autoreload\n",
    "%autoreload 2"
   ]
  },
  {
   "cell_type": "code",
   "execution_count": 2,
   "metadata": {},
   "outputs": [],
   "source": [
    "import sys\n",
    "import os\n",
    "\n",
    "import numpy as np\n",
    "import pandas as pd\n",
    "\n",
    "sys.path.append('..')\n",
    "from env_config import DATA_PATH\n",
    "from utils import save_fits\n",
    "from data import read_fits_to_pandas, get_mag_str, process_2df\n",
    "from evaluation import *"
   ]
  },
  {
   "cell_type": "markdown",
   "metadata": {},
   "source": [
    "# Catalog"
   ]
  },
  {
   "cell_type": "code",
   "execution_count": 3,
   "metadata": {},
   "outputs": [
    {
     "name": "stdout",
     "output_type": "stream",
     "text": [
      "(100350873, 4)\n"
     ]
    }
   ],
   "source": [
    "kids = read_fits_to_pandas(os.path.join(DATA_PATH, 'KiDS/DR4/KiDS.DR4.mag-pos.fits'),\n",
    "                           columns=['ID', 'MAG_GAAP_r', 'RAJ2000', 'DECJ2000'])\n",
    "print(kids.shape)"
   ]
  },
  {
   "cell_type": "code",
   "execution_count": 4,
   "metadata": {},
   "outputs": [],
   "source": [
    "ctlg_clf = read_fits_to_pandas(os.path.join(DATA_PATH, 'KiDS/DR4/catalogs/KiDS_DR4_x_SDSS_DR14_ann_clf_f-all__2020-02-19_17:01:04.fits'))\n",
    "ctlg_z_qso = read_fits_to_pandas(os.path.join(DATA_PATH, 'KiDS/DR4/catalogs/KiDS_DR4_x_SDSS_DR14_ann_z_f-all_spec-qso__2020-02-20_13:31:58.fits'))"
   ]
  },
  {
   "cell_type": "code",
   "execution_count": 6,
   "metadata": {},
   "outputs": [
    {
     "name": "stdout",
     "output_type": "stream",
     "text": [
      "(45383661, 8)\n"
     ]
    }
   ],
   "source": [
    "catalog = ctlg_clf.copy()\n",
    "catalog[['QSO_Z_PHOTO', 'QSO_Z_PHOTO_STDDEV']] = ctlg_z_qso[['Z_PHOTO', 'Z_PHOTO_STDDEV']]\n",
    "print(catalog.shape)"
   ]
  },
  {
   "cell_type": "code",
   "execution_count": 7,
   "metadata": {},
   "outputs": [
    {
     "name": "stdout",
     "output_type": "stream",
     "text": [
      "(45383663, 11)\n"
     ]
    }
   ],
   "source": [
    "# Add columns from KiDS, e.g. r magnitude for number counts, class star for middle values analysis\n",
    "catalog = catalog.merge(kids, on='ID')\n",
    "print(catalog.shape)"
   ]
  },
  {
   "cell_type": "code",
   "execution_count": 9,
   "metadata": {},
   "outputs": [],
   "source": [
    "# Save CSV\n",
    "catalog_path = os.path.join(DATA_PATH, 'KiDS/DR4/catalogs/KiDS_DR4_x_SDSS_DR14_ann_f-all__2020-02-19.csv')\n",
    "catalog.to_csv(catalog_path, index=False)"
   ]
  },
  {
   "cell_type": "code",
   "execution_count": 3,
   "metadata": {},
   "outputs": [],
   "source": [
    "# Read CSV\n",
    "catalog_path = os.path.join(DATA_PATH, 'KiDS/DR4/catalogs/KiDS_DR4_x_SDSS_DR14_ann_f-all__2020-02-19.csv')\n",
    "catalog = pd.read_csv(catalog_path)"
   ]
  },
  {
   "cell_type": "code",
   "execution_count": null,
   "metadata": {},
   "outputs": [],
   "source": [
    "# Save FITS\n",
    "catalog_path = os.path.join(DATA_PATH, 'KiDS/DR4/catalogs/KiDS_DR4_x_SDSS_DR14_ann_f-all__2020-02-19.fits')\n",
    "save_fits(catalog, catalog_path)"
   ]
  },
  {
   "cell_type": "code",
   "execution_count": null,
   "metadata": {},
   "outputs": [],
   "source": []
  },
  {
   "cell_type": "code",
   "execution_count": 8,
   "metadata": {},
   "outputs": [
    {
     "name": "stdout",
     "output_type": "stream",
     "text": [
      "4\n"
     ]
    }
   ],
   "source": [
    "dups = catalog.duplicated(subset=['ID'], keep=False)\n",
    "print(dups.sum())"
   ]
  },
  {
   "cell_type": "markdown",
   "metadata": {},
   "source": [
    "# Experiment results"
   ]
  },
  {
   "cell_type": "code",
   "execution_count": 3,
   "metadata": {},
   "outputs": [],
   "source": [
    "# Read experiment results\n",
    "preds_clf = pd.read_csv('../outputs/exp_preds/KiDS_DR4_x_SDSS_DR14_ann_f-all_test-magnitude__2019-12-11_17:54:01.csv')\n",
    "preds_z_qso = pd.read_csv('../outputs/exp_preds/KiDS_DR4_x_SDSS_DR14_ann_f-all_test-magnitude_spec-qso__2019-12-12_12:33:02.csv')\n",
    "preds_z_galaxy = pd.read_csv('../outputs/exp_preds/KiDS_DR4_x_SDSS_DR14_ann_f-all_test-magnitude_spec-galaxy__2019-12-12_12:34:24.csv')"
   ]
  },
  {
   "cell_type": "code",
   "execution_count": 4,
   "metadata": {},
   "outputs": [],
   "source": [
    "# Add models class name to photometric redshift columns\n",
    "preds_z_qso = preds_z_qso.rename(columns={'Z_PHOTO': 'QSO_Z_PHOTO', 'Z_PHOTO_STDDEV': 'QSO_Z_PHOTO_STDDEV'})\n",
    "preds_z_galaxy = preds_z_galaxy.rename(columns={'Z_PHOTO': 'GALAXY_Z_PHOTO', 'Z_PHOTO_STDDEV': 'GALAXY_Z_PHOTO_STDDEV'})"
   ]
  },
  {
   "cell_type": "code",
   "execution_count": 5,
   "metadata": {},
   "outputs": [],
   "source": [
    "# Merge predictions\n",
    "preds = preds_clf.merge(preds_z_qso[['ID', 'QSO_Z_PHOTO', 'QSO_Z_PHOTO_STDDEV']], on=['ID'])\n",
    "preds = preds.merge(preds_z_galaxy[['ID', 'GALAXY_Z_PHOTO', 'GALAXY_Z_PHOTO_STDDEV']], on=['ID'])"
   ]
  },
  {
   "cell_type": "code",
   "execution_count": 6,
   "metadata": {},
   "outputs": [],
   "source": [
    "# Add KiDS coolumns\n",
    "kids_x_sdss = read_fits_to_pandas(os.path.join(DATA_PATH, 'KiDS/DR4/KiDS.DR4.x.SDSS.DR14.fits'),\n",
    "                                      ['ID', 'Z_B', 'CLASS_STAR'] + BAND_COLUMNS)\n",
    "preds = preds.merge(kids_x_sdss, on=['ID'])"
   ]
  },
  {
   "cell_type": "code",
   "execution_count": 7,
   "metadata": {
    "scrolled": true
   },
   "outputs": [],
   "source": [
    "# Add 6QZ spectroscopic classification\n",
    "kids_x_6qz = read_fits_to_pandas(os.path.join(DATA_PATH, 'KiDS/DR4/KiDS.DR4.x.6QZ.fits'), columns = ['ID', 'id1'])\n",
    "kids_x_6qz = kids_x_6qz.rename(columns={'id1': '6QZ_id1'})\n",
    "preds = preds.merge(kids_x_6qz, on=['ID'], how='left')"
   ]
  },
  {
   "cell_type": "code",
   "execution_count": 8,
   "metadata": {},
   "outputs": [],
   "source": [
    "# Add 2SLAQ\n",
    "kids_x_2slaq = read_fits_to_pandas(os.path.join(DATA_PATH, 'KiDS/DR4/KiDS.DR4.x.2SLAQ.QSO.fits'),\n",
    "                                   columns = ['ID_1', 'ID_2a', 'z', 'qual'])\n",
    "kids_x_2slaq = kids_x_2slaq.rename(columns={'ID_1': 'ID', 'ID_2a': '2SLAQ_ID', 'z': '2SLAQ_z', 'qual': '2SLAQ_qual'})\n",
    "preds = preds.merge(kids_x_2slaq, on=['ID'], how='left')"
   ]
  },
  {
   "cell_type": "code",
   "execution_count": 9,
   "metadata": {},
   "outputs": [
    {
     "data": {
      "text/plain": [
       "Index(['ID', 'CLASS', 'Z', 'GALAXY_PHOTO', 'QSO_PHOTO', 'STAR_PHOTO',\n",
       "       'CLASS_PHOTO', 'test_subset', 'QSO_Z_PHOTO', 'QSO_Z_PHOTO_STDDEV',\n",
       "       'GALAXY_Z_PHOTO', 'GALAXY_Z_PHOTO_STDDEV', 'Z_B', 'CLASS_STAR',\n",
       "       'MAG_GAAP_u', 'MAG_GAAP_g', 'MAG_GAAP_r', 'MAG_GAAP_i', 'MAG_GAAP_Z',\n",
       "       'MAG_GAAP_Y', 'MAG_GAAP_J', 'MAG_GAAP_H', 'MAG_GAAP_Ks', '6QZ_id1',\n",
       "       '2SLAQ_ID', '2SLAQ_z', '2SLAQ_qual'],\n",
       "      dtype='object')"
      ]
     },
     "execution_count": 9,
     "metadata": {},
     "output_type": "execute_result"
    }
   ],
   "source": [
    "preds.columns"
   ]
  },
  {
   "cell_type": "code",
   "execution_count": 10,
   "metadata": {
    "scrolled": true
   },
   "outputs": [
    {
     "data": {
      "text/html": [
       "<div>\n",
       "<style scoped>\n",
       "    .dataframe tbody tr th:only-of-type {\n",
       "        vertical-align: middle;\n",
       "    }\n",
       "\n",
       "    .dataframe tbody tr th {\n",
       "        vertical-align: top;\n",
       "    }\n",
       "\n",
       "    .dataframe thead th {\n",
       "        text-align: right;\n",
       "    }\n",
       "</style>\n",
       "<table border=\"1\" class=\"dataframe\">\n",
       "  <thead>\n",
       "    <tr style=\"text-align: right;\">\n",
       "      <th></th>\n",
       "      <th>ID</th>\n",
       "      <th>CLASS</th>\n",
       "      <th>Z</th>\n",
       "      <th>GALAXY_PHOTO</th>\n",
       "      <th>QSO_PHOTO</th>\n",
       "      <th>STAR_PHOTO</th>\n",
       "      <th>CLASS_PHOTO</th>\n",
       "      <th>test_subset</th>\n",
       "      <th>QSO_Z_PHOTO</th>\n",
       "      <th>QSO_Z_PHOTO_STDDEV</th>\n",
       "      <th>...</th>\n",
       "      <th>MAG_GAAP_i</th>\n",
       "      <th>MAG_GAAP_Z</th>\n",
       "      <th>MAG_GAAP_Y</th>\n",
       "      <th>MAG_GAAP_J</th>\n",
       "      <th>MAG_GAAP_H</th>\n",
       "      <th>MAG_GAAP_Ks</th>\n",
       "      <th>6QZ_id1</th>\n",
       "      <th>2SLAQ_ID</th>\n",
       "      <th>2SLAQ_z</th>\n",
       "      <th>2SLAQ_qual</th>\n",
       "    </tr>\n",
       "  </thead>\n",
       "  <tbody>\n",
       "    <tr>\n",
       "      <th>0</th>\n",
       "      <td>KiDSDR4 J114956.822+010846.96</td>\n",
       "      <td>GALAXY</td>\n",
       "      <td>0.534207</td>\n",
       "      <td>0.992363</td>\n",
       "      <td>0.007456</td>\n",
       "      <td>0.000181</td>\n",
       "      <td>GALAXY</td>\n",
       "      <td>top</td>\n",
       "      <td>2.019143</td>\n",
       "      <td>0.693261</td>\n",
       "      <td>...</td>\n",
       "      <td>20.362633</td>\n",
       "      <td>19.751524</td>\n",
       "      <td>19.483482</td>\n",
       "      <td>19.181873</td>\n",
       "      <td>18.666264</td>\n",
       "      <td>18.375544</td>\n",
       "      <td>NaN</td>\n",
       "      <td>NaN</td>\n",
       "      <td>NaN</td>\n",
       "      <td>NaN</td>\n",
       "    </tr>\n",
       "    <tr>\n",
       "      <th>1</th>\n",
       "      <td>KiDSDR4 J121345.818+014824.72</td>\n",
       "      <td>GALAXY</td>\n",
       "      <td>0.397798</td>\n",
       "      <td>0.987499</td>\n",
       "      <td>0.012218</td>\n",
       "      <td>0.000283</td>\n",
       "      <td>GALAXY</td>\n",
       "      <td>top</td>\n",
       "      <td>1.350140</td>\n",
       "      <td>0.689672</td>\n",
       "      <td>...</td>\n",
       "      <td>20.616844</td>\n",
       "      <td>20.086584</td>\n",
       "      <td>19.787380</td>\n",
       "      <td>19.384949</td>\n",
       "      <td>18.983282</td>\n",
       "      <td>18.702948</td>\n",
       "      <td>NaN</td>\n",
       "      <td>NaN</td>\n",
       "      <td>NaN</td>\n",
       "      <td>NaN</td>\n",
       "    </tr>\n",
       "    <tr>\n",
       "      <th>2</th>\n",
       "      <td>KiDSDR4 J115314.320+022725.71</td>\n",
       "      <td>GALAXY</td>\n",
       "      <td>0.661457</td>\n",
       "      <td>0.993560</td>\n",
       "      <td>0.006257</td>\n",
       "      <td>0.000183</td>\n",
       "      <td>GALAXY</td>\n",
       "      <td>top</td>\n",
       "      <td>1.390835</td>\n",
       "      <td>0.700925</td>\n",
       "      <td>...</td>\n",
       "      <td>20.321697</td>\n",
       "      <td>19.846567</td>\n",
       "      <td>19.577238</td>\n",
       "      <td>19.268234</td>\n",
       "      <td>18.947994</td>\n",
       "      <td>18.624397</td>\n",
       "      <td>NaN</td>\n",
       "      <td>NaN</td>\n",
       "      <td>NaN</td>\n",
       "      <td>NaN</td>\n",
       "    </tr>\n",
       "    <tr>\n",
       "      <th>3</th>\n",
       "      <td>KiDSDR4 J090736.028-004255.08</td>\n",
       "      <td>GALAXY</td>\n",
       "      <td>0.603146</td>\n",
       "      <td>0.999455</td>\n",
       "      <td>0.000533</td>\n",
       "      <td>0.000012</td>\n",
       "      <td>GALAXY</td>\n",
       "      <td>top</td>\n",
       "      <td>1.303888</td>\n",
       "      <td>0.708975</td>\n",
       "      <td>...</td>\n",
       "      <td>20.130110</td>\n",
       "      <td>19.642719</td>\n",
       "      <td>19.315298</td>\n",
       "      <td>18.897224</td>\n",
       "      <td>18.564531</td>\n",
       "      <td>18.221378</td>\n",
       "      <td>NaN</td>\n",
       "      <td>NaN</td>\n",
       "      <td>NaN</td>\n",
       "      <td>NaN</td>\n",
       "    </tr>\n",
       "    <tr>\n",
       "      <th>4</th>\n",
       "      <td>KiDSDR4 J103918.220-015517.74</td>\n",
       "      <td>GALAXY</td>\n",
       "      <td>0.728640</td>\n",
       "      <td>0.997348</td>\n",
       "      <td>0.002603</td>\n",
       "      <td>0.000050</td>\n",
       "      <td>GALAXY</td>\n",
       "      <td>top</td>\n",
       "      <td>1.269409</td>\n",
       "      <td>0.712185</td>\n",
       "      <td>...</td>\n",
       "      <td>20.068989</td>\n",
       "      <td>19.529633</td>\n",
       "      <td>19.101192</td>\n",
       "      <td>18.753311</td>\n",
       "      <td>18.242176</td>\n",
       "      <td>17.823534</td>\n",
       "      <td>NaN</td>\n",
       "      <td>NaN</td>\n",
       "      <td>NaN</td>\n",
       "      <td>NaN</td>\n",
       "    </tr>\n",
       "    <tr>\n",
       "      <th>...</th>\n",
       "      <td>...</td>\n",
       "      <td>...</td>\n",
       "      <td>...</td>\n",
       "      <td>...</td>\n",
       "      <td>...</td>\n",
       "      <td>...</td>\n",
       "      <td>...</td>\n",
       "      <td>...</td>\n",
       "      <td>...</td>\n",
       "      <td>...</td>\n",
       "      <td>...</td>\n",
       "      <td>...</td>\n",
       "      <td>...</td>\n",
       "      <td>...</td>\n",
       "      <td>...</td>\n",
       "      <td>...</td>\n",
       "      <td>...</td>\n",
       "      <td>...</td>\n",
       "      <td>...</td>\n",
       "      <td>...</td>\n",
       "      <td>...</td>\n",
       "    </tr>\n",
       "    <tr>\n",
       "      <th>23358</th>\n",
       "      <td>KiDSDR4 J092330.207+020858.53</td>\n",
       "      <td>GALAXY</td>\n",
       "      <td>0.279085</td>\n",
       "      <td>0.901458</td>\n",
       "      <td>0.096288</td>\n",
       "      <td>0.002254</td>\n",
       "      <td>GALAXY</td>\n",
       "      <td>random</td>\n",
       "      <td>0.627324</td>\n",
       "      <td>0.330334</td>\n",
       "      <td>...</td>\n",
       "      <td>18.861637</td>\n",
       "      <td>18.438211</td>\n",
       "      <td>18.415812</td>\n",
       "      <td>18.130932</td>\n",
       "      <td>17.846735</td>\n",
       "      <td>17.573195</td>\n",
       "      <td>NaN</td>\n",
       "      <td>NaN</td>\n",
       "      <td>NaN</td>\n",
       "      <td>NaN</td>\n",
       "    </tr>\n",
       "    <tr>\n",
       "      <th>23359</th>\n",
       "      <td>KiDSDR4 J105155.143-005337.52</td>\n",
       "      <td>GALAXY</td>\n",
       "      <td>0.048573</td>\n",
       "      <td>0.999918</td>\n",
       "      <td>0.000068</td>\n",
       "      <td>0.000013</td>\n",
       "      <td>GALAXY</td>\n",
       "      <td>random</td>\n",
       "      <td>0.698886</td>\n",
       "      <td>0.362417</td>\n",
       "      <td>...</td>\n",
       "      <td>18.150942</td>\n",
       "      <td>18.044594</td>\n",
       "      <td>17.905134</td>\n",
       "      <td>17.832495</td>\n",
       "      <td>17.745382</td>\n",
       "      <td>17.942240</td>\n",
       "      <td>NaN</td>\n",
       "      <td>NaN</td>\n",
       "      <td>NaN</td>\n",
       "      <td>NaN</td>\n",
       "    </tr>\n",
       "    <tr>\n",
       "      <th>23360</th>\n",
       "      <td>KiDSDR4 J150654.525-004138.93</td>\n",
       "      <td>GALAXY</td>\n",
       "      <td>0.518560</td>\n",
       "      <td>0.986343</td>\n",
       "      <td>0.013217</td>\n",
       "      <td>0.000440</td>\n",
       "      <td>GALAXY</td>\n",
       "      <td>random</td>\n",
       "      <td>0.742388</td>\n",
       "      <td>0.359006</td>\n",
       "      <td>...</td>\n",
       "      <td>20.172960</td>\n",
       "      <td>19.736998</td>\n",
       "      <td>19.417065</td>\n",
       "      <td>19.174036</td>\n",
       "      <td>18.766550</td>\n",
       "      <td>18.421511</td>\n",
       "      <td>NaN</td>\n",
       "      <td>NaN</td>\n",
       "      <td>NaN</td>\n",
       "      <td>NaN</td>\n",
       "    </tr>\n",
       "    <tr>\n",
       "      <th>23361</th>\n",
       "      <td>KiDSDR4 J122554.288-014703.56</td>\n",
       "      <td>QSO</td>\n",
       "      <td>2.605478</td>\n",
       "      <td>0.000002</td>\n",
       "      <td>0.999986</td>\n",
       "      <td>0.000013</td>\n",
       "      <td>QSO</td>\n",
       "      <td>random</td>\n",
       "      <td>2.496545</td>\n",
       "      <td>0.392068</td>\n",
       "      <td>...</td>\n",
       "      <td>19.736294</td>\n",
       "      <td>19.956964</td>\n",
       "      <td>19.549042</td>\n",
       "      <td>19.768286</td>\n",
       "      <td>19.727482</td>\n",
       "      <td>19.641542</td>\n",
       "      <td>QSO</td>\n",
       "      <td>NaN</td>\n",
       "      <td>NaN</td>\n",
       "      <td>NaN</td>\n",
       "    </tr>\n",
       "    <tr>\n",
       "      <th>23362</th>\n",
       "      <td>KiDSDR4 J120514.358-023648.81</td>\n",
       "      <td>STAR</td>\n",
       "      <td>0.000420</td>\n",
       "      <td>0.000822</td>\n",
       "      <td>0.000003</td>\n",
       "      <td>0.999175</td>\n",
       "      <td>STAR</td>\n",
       "      <td>random</td>\n",
       "      <td>2.561146</td>\n",
       "      <td>0.409492</td>\n",
       "      <td>...</td>\n",
       "      <td>17.403355</td>\n",
       "      <td>17.398539</td>\n",
       "      <td>17.421040</td>\n",
       "      <td>17.522156</td>\n",
       "      <td>17.630749</td>\n",
       "      <td>18.089762</td>\n",
       "      <td>NaN</td>\n",
       "      <td>NaN</td>\n",
       "      <td>NaN</td>\n",
       "      <td>NaN</td>\n",
       "    </tr>\n",
       "  </tbody>\n",
       "</table>\n",
       "<p>23363 rows × 27 columns</p>\n",
       "</div>"
      ],
      "text/plain": [
       "                                  ID   CLASS         Z  GALAXY_PHOTO  \\\n",
       "0      KiDSDR4 J114956.822+010846.96  GALAXY  0.534207      0.992363   \n",
       "1      KiDSDR4 J121345.818+014824.72  GALAXY  0.397798      0.987499   \n",
       "2      KiDSDR4 J115314.320+022725.71  GALAXY  0.661457      0.993560   \n",
       "3      KiDSDR4 J090736.028-004255.08  GALAXY  0.603146      0.999455   \n",
       "4      KiDSDR4 J103918.220-015517.74  GALAXY  0.728640      0.997348   \n",
       "...                              ...     ...       ...           ...   \n",
       "23358  KiDSDR4 J092330.207+020858.53  GALAXY  0.279085      0.901458   \n",
       "23359  KiDSDR4 J105155.143-005337.52  GALAXY  0.048573      0.999918   \n",
       "23360  KiDSDR4 J150654.525-004138.93  GALAXY  0.518560      0.986343   \n",
       "23361  KiDSDR4 J122554.288-014703.56     QSO  2.605478      0.000002   \n",
       "23362  KiDSDR4 J120514.358-023648.81    STAR  0.000420      0.000822   \n",
       "\n",
       "       QSO_PHOTO  STAR_PHOTO CLASS_PHOTO test_subset  QSO_Z_PHOTO  \\\n",
       "0       0.007456    0.000181      GALAXY         top     2.019143   \n",
       "1       0.012218    0.000283      GALAXY         top     1.350140   \n",
       "2       0.006257    0.000183      GALAXY         top     1.390835   \n",
       "3       0.000533    0.000012      GALAXY         top     1.303888   \n",
       "4       0.002603    0.000050      GALAXY         top     1.269409   \n",
       "...          ...         ...         ...         ...          ...   \n",
       "23358   0.096288    0.002254      GALAXY      random     0.627324   \n",
       "23359   0.000068    0.000013      GALAXY      random     0.698886   \n",
       "23360   0.013217    0.000440      GALAXY      random     0.742388   \n",
       "23361   0.999986    0.000013         QSO      random     2.496545   \n",
       "23362   0.000003    0.999175        STAR      random     2.561146   \n",
       "\n",
       "       QSO_Z_PHOTO_STDDEV  ...  MAG_GAAP_i  MAG_GAAP_Z  MAG_GAAP_Y  \\\n",
       "0                0.693261  ...   20.362633   19.751524   19.483482   \n",
       "1                0.689672  ...   20.616844   20.086584   19.787380   \n",
       "2                0.700925  ...   20.321697   19.846567   19.577238   \n",
       "3                0.708975  ...   20.130110   19.642719   19.315298   \n",
       "4                0.712185  ...   20.068989   19.529633   19.101192   \n",
       "...                   ...  ...         ...         ...         ...   \n",
       "23358            0.330334  ...   18.861637   18.438211   18.415812   \n",
       "23359            0.362417  ...   18.150942   18.044594   17.905134   \n",
       "23360            0.359006  ...   20.172960   19.736998   19.417065   \n",
       "23361            0.392068  ...   19.736294   19.956964   19.549042   \n",
       "23362            0.409492  ...   17.403355   17.398539   17.421040   \n",
       "\n",
       "       MAG_GAAP_J  MAG_GAAP_H  MAG_GAAP_Ks  6QZ_id1  2SLAQ_ID  2SLAQ_z  \\\n",
       "0       19.181873   18.666264    18.375544      NaN       NaN      NaN   \n",
       "1       19.384949   18.983282    18.702948      NaN       NaN      NaN   \n",
       "2       19.268234   18.947994    18.624397      NaN       NaN      NaN   \n",
       "3       18.897224   18.564531    18.221378      NaN       NaN      NaN   \n",
       "4       18.753311   18.242176    17.823534      NaN       NaN      NaN   \n",
       "...           ...         ...          ...      ...       ...      ...   \n",
       "23358   18.130932   17.846735    17.573195      NaN       NaN      NaN   \n",
       "23359   17.832495   17.745382    17.942240      NaN       NaN      NaN   \n",
       "23360   19.174036   18.766550    18.421511      NaN       NaN      NaN   \n",
       "23361   19.768286   19.727482    19.641542      QSO       NaN      NaN   \n",
       "23362   17.522156   17.630749    18.089762      NaN       NaN      NaN   \n",
       "\n",
       "       2SLAQ_qual  \n",
       "0             NaN  \n",
       "1             NaN  \n",
       "2             NaN  \n",
       "3             NaN  \n",
       "4             NaN  \n",
       "...           ...  \n",
       "23358         NaN  \n",
       "23359         NaN  \n",
       "23360         NaN  \n",
       "23361         NaN  \n",
       "23362         NaN  \n",
       "\n",
       "[23363 rows x 27 columns]"
      ]
     },
     "execution_count": 10,
     "metadata": {},
     "output_type": "execute_result"
    }
   ],
   "source": [
    "preds"
   ]
  },
  {
   "cell_type": "code",
   "execution_count": 11,
   "metadata": {},
   "outputs": [],
   "source": [
    "# Save\n",
    "preds.to_csv(os.path.join(DATA_PATH, 'share/KiDS_DR4_x_SDSS_DR14_ann_f-all_test-magnitude__2019-12-11_17:54:01.csv'))"
   ]
  },
  {
   "cell_type": "code",
   "execution_count": null,
   "metadata": {},
   "outputs": [],
   "source": []
  }
 ],
 "metadata": {
  "kernelspec": {
   "display_name": "Python 3",
   "language": "python",
   "name": "python3"
  },
  "language_info": {
   "codemirror_mode": {
    "name": "ipython",
    "version": 3
   },
   "file_extension": ".py",
   "mimetype": "text/x-python",
   "name": "python",
   "nbconvert_exporter": "python",
   "pygments_lexer": "ipython3",
   "version": "3.7.6"
  }
 },
 "nbformat": 4,
 "nbformat_minor": 4
}
